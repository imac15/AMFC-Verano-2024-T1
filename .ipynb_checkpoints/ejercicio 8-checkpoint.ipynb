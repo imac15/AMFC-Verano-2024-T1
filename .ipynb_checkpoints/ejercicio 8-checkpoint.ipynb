{
 "cells": [
  {
   "cell_type": "code",
   "execution_count": 7,
   "id": "297ee2aa-2ae8-4681-b650-6593e7684380",
   "metadata": {},
   "outputs": [],
   "source": [
    "import codigo_base.limites as c\n",
    "import codigo_base.fr as fr\n",
    "import codigo_base.fa as fa\n",
    "#import codigo_base.frecuencias as che\n",
    "#import codigo_base.lim as esc\n",
    "import codigo_base.ordenar as i\n",
    "\n",
    "# Graficas\n",
    "#import codigo_base.reyes as re\n",
    "\n",
    "#import codigo_base.montaño as me\n",
    "#import codigo_base.caracas as ca\n",
    "#import codigo_base.paz as pa\n",
    "#import codigo_base.atanacio as at"
   ]
  },
  {
   "cell_type": "code",
   "execution_count": 8,
   "id": "51d74508-b0d7-4cf1-a7ab-cabb8a1e85ac",
   "metadata": {},
   "outputs": [
    {
     "name": "stdout",
     "output_type": "stream",
     "text": [
      "Límites Inferiores: [0.9, 2.16, 3.42, 4.68, 5.94]\n",
      "Límites Superiores: [2.16, 3.42, 4.68, 5.94, 7.2]\n",
      "Marcas de Clase: [1.53, 2.79, 4.05, 5.31, 6.57]\n",
      "Datos Ordenados: [0.9, 1.1, 1.7, 1.9, 2.2, 2.3, 2.5, 2.5, 2.6, 2.7, 2.8, 2.9, 3.1, 3.1, 3.2, 3.3, 3.6, 3.7, 3.8, 4.0, 4.2, 4.4, 4.5, 4.9, 4.9, 5.3, 5.7, 5.8, 5.9, 7.2]\n"
     ]
    },
    {
     "ename": "NameError",
     "evalue": "name 'esc' is not defined",
     "output_type": "error",
     "traceback": [
      "\u001b[0;31m---------------------------------------------------------------------------\u001b[0m",
      "\u001b[0;31mNameError\u001b[0m                                 Traceback (most recent call last)",
      "Cell \u001b[0;32mIn[8], line 21\u001b[0m\n\u001b[1;32m     18\u001b[0m freq_relativa \u001b[38;5;241m=\u001b[39m fr\u001b[38;5;241m.\u001b[39mobtener_fr(freq_absoluta) \u001b[38;5;66;03m#Calcula las F_relativas\u001b[39;00m\n\u001b[1;32m     19\u001b[0m frecuencia_acumulada \u001b[38;5;241m=\u001b[39m fa\u001b[38;5;241m.\u001b[39mobtener_fa(freq_relativa) \u001b[38;5;66;03m#Calcula las F_acomuladas\u001b[39;00m\n\u001b[0;32m---> 21\u001b[0m tbl \u001b[38;5;241m=\u001b[39m \u001b[43mesc\u001b[49m\u001b[38;5;241m.\u001b[39mtabla_grouped(lim_inf, lim_sup, mrks, freq_absoluta, freq_relativa, frecuencia_acumulada) \u001b[38;5;66;03m#Ordena de los datos recabados en una tabla\u001b[39;00m\n\u001b[1;32m     23\u001b[0m \u001b[38;5;28mprint\u001b[39m(tbl) \u001b[38;5;66;03m#Imprime la tabla\u001b[39;00m\n",
      "\u001b[0;31mNameError\u001b[0m: name 'esc' is not defined"
     ]
    }
   ],
   "source": [
    "# datos = [2.5,4.5,5.8,2.2,5.7,5.3,4.0,0.9,2.5,2.3,3.2,4.9,2.7,3.7,3.8,4.9,2.8,3.6,4.2,3.1,7.2,1.9,5.9,3.3,2.9,1.1,1.7,2.6,3.1,4.4]\n",
    "\n",
    "#Arreglo a usar\n",
    "datos = [2.5,4.5,5.8,2.2,5.7,5.3,4.0,0.9,2.5,2.3,3.2,4.9,2.7,3.7,3.8,4.9,2.8,3.6,4.2,3.1,7.2,1.9,5.9,3.3,2.9,1.1,1.7,2.6,3.1,4.4]\n",
    "\n",
    "datosOrd = i.ordenar_asc(datos) #Ordena los datos del arreglo principal\n",
    "\n",
    "lim_inf, lim_sup, mrks = c.clases_grouped(datosOrd) #Calcula los limites inferiores, superiores y las marcas de clase\n",
    "\n",
    "#Impresion de datos\n",
    "print(\"Límites Inferiores:\", lim_inf)\n",
    "print(\"Límites Superiores:\", lim_sup)\n",
    "print(\"Marcas de Clase:\", mrks)\n",
    "print(\"Datos Ordenados:\", datosOrd)\n",
    "\n",
    "freq_absoluta, clases = che.fa_grouped(datosOrd, lim_inf, lim_sup) #Calcula los 2 tipos de F_absolutas, asi como el numero de clases\n",
    "\n",
    "freq_relativa = fr.obtener_fr(freq_absoluta) #Calcula las F_relativas\n",
    "frecuencia_acumulada = fa.obtener_fa(freq_relativa) #Calcula las F_acomuladas\n",
    "\n",
    "tbl = esc.tabla_grouped(lim_inf, lim_sup, mrks, freq_absoluta, freq_relativa, frecuencia_acumulada) #Ordena de los datos recabados en una tabla\n",
    "\n",
    "print(tbl) #Imprime la tabla\n"
   ]
  },
  {
   "cell_type": "code",
   "execution_count": null,
   "id": "3ae4b995-2bdd-48d6-89e9-05862eb7e7b3",
   "metadata": {},
   "outputs": [],
   "source": []
  }
 ],
 "metadata": {
  "kernelspec": {
   "display_name": "Python 3 (ipykernel)",
   "language": "python",
   "name": "python3"
  },
  "language_info": {
   "codemirror_mode": {
    "name": "ipython",
    "version": 3
   },
   "file_extension": ".py",
   "mimetype": "text/x-python",
   "name": "python",
   "nbconvert_exporter": "python",
   "pygments_lexer": "ipython3",
   "version": "3.12.1"
  }
 },
 "nbformat": 4,
 "nbformat_minor": 5
}
